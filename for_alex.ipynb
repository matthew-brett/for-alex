{
 "cells": [
  {
   "cell_type": "code",
   "execution_count": 1,
   "id": "4e44ff3d",
   "metadata": {},
   "outputs": [],
   "source": [
    "import numpy as np\n",
    "import pandas as pd\n",
    "pd.set_option('mode.copy_on_write', True)\n",
    "import statsmodels.api as sm"
   ]
  },
  {
   "cell_type": "code",
   "execution_count": 2,
   "id": "956f1c92",
   "metadata": {},
   "outputs": [],
   "source": [
    "rng = np.random.default_rng()"
   ]
  },
  {
   "cell_type": "code",
   "execution_count": 3,
   "id": "d3278fdb",
   "metadata": {},
   "outputs": [],
   "source": [
    "n = 100\n",
    "p = 10\n",
    "y = rng.normal(10, 2, size=n)  # Thing we're predicting.\n",
    "X1 = np.ones((n, p))  # Regressors.  First column is for the intercept.\n",
    "# Things we're predicting with\n",
    "regressors = rng.normal(5, 1, size=(n, p-1)) \n",
    "# Put these into the design\n",
    "X1[:, 1:] = regressors"
   ]
  },
  {
   "cell_type": "markdown",
   "id": "af55cc10",
   "metadata": {},
   "source": [
    "First design - no subtraction:"
   ]
  },
  {
   "cell_type": "code",
   "execution_count": 4,
   "id": "6b6ae85d",
   "metadata": {},
   "outputs": [
    {
     "data": {
      "text/html": [
       "<table class=\"simpletable\">\n",
       "<caption>OLS Regression Results</caption>\n",
       "<tr>\n",
       "  <th>Dep. Variable:</th>            <td>y</td>        <th>  R-squared:         </th> <td>   0.053</td>\n",
       "</tr>\n",
       "<tr>\n",
       "  <th>Model:</th>                   <td>OLS</td>       <th>  Adj. R-squared:    </th> <td>  -0.042</td>\n",
       "</tr>\n",
       "<tr>\n",
       "  <th>Method:</th>             <td>Least Squares</td>  <th>  F-statistic:       </th> <td>  0.5564</td>\n",
       "</tr>\n",
       "<tr>\n",
       "  <th>Date:</th>             <td>Mon, 06 Mar 2023</td> <th>  Prob (F-statistic):</th>  <td> 0.829</td> \n",
       "</tr>\n",
       "<tr>\n",
       "  <th>Time:</th>                 <td>08:48:45</td>     <th>  Log-Likelihood:    </th> <td> -208.89</td>\n",
       "</tr>\n",
       "<tr>\n",
       "  <th>No. Observations:</th>      <td>   100</td>      <th>  AIC:               </th> <td>   437.8</td>\n",
       "</tr>\n",
       "<tr>\n",
       "  <th>Df Residuals:</th>          <td>    90</td>      <th>  BIC:               </th> <td>   463.8</td>\n",
       "</tr>\n",
       "<tr>\n",
       "  <th>Df Model:</th>              <td>     9</td>      <th>                     </th>     <td> </td>   \n",
       "</tr>\n",
       "<tr>\n",
       "  <th>Covariance Type:</th>      <td>nonrobust</td>    <th>                     </th>     <td> </td>   \n",
       "</tr>\n",
       "</table>\n",
       "<table class=\"simpletable\">\n",
       "<tr>\n",
       "    <td></td>       <th>coef</th>     <th>std err</th>      <th>t</th>      <th>P>|t|</th>  <th>[0.025</th>    <th>0.975]</th>  \n",
       "</tr>\n",
       "<tr>\n",
       "  <th>const</th> <td>   11.0963</td> <td>    2.988</td> <td>    3.713</td> <td> 0.000</td> <td>    5.160</td> <td>   17.033</td>\n",
       "</tr>\n",
       "<tr>\n",
       "  <th>x1</th>    <td>   -0.1313</td> <td>    0.224</td> <td>   -0.587</td> <td> 0.559</td> <td>   -0.575</td> <td>    0.313</td>\n",
       "</tr>\n",
       "<tr>\n",
       "  <th>x2</th>    <td>   -0.2034</td> <td>    0.211</td> <td>   -0.962</td> <td> 0.338</td> <td>   -0.623</td> <td>    0.216</td>\n",
       "</tr>\n",
       "<tr>\n",
       "  <th>x3</th>    <td>   -0.1586</td> <td>    0.214</td> <td>   -0.740</td> <td> 0.461</td> <td>   -0.584</td> <td>    0.267</td>\n",
       "</tr>\n",
       "<tr>\n",
       "  <th>x4</th>    <td>   -0.0556</td> <td>    0.240</td> <td>   -0.232</td> <td> 0.817</td> <td>   -0.532</td> <td>    0.421</td>\n",
       "</tr>\n",
       "<tr>\n",
       "  <th>x5</th>    <td>    0.0091</td> <td>    0.224</td> <td>    0.040</td> <td> 0.968</td> <td>   -0.436</td> <td>    0.454</td>\n",
       "</tr>\n",
       "<tr>\n",
       "  <th>x6</th>    <td>    0.1411</td> <td>    0.217</td> <td>    0.649</td> <td> 0.518</td> <td>   -0.291</td> <td>    0.573</td>\n",
       "</tr>\n",
       "<tr>\n",
       "  <th>x7</th>    <td>    0.1338</td> <td>    0.206</td> <td>    0.649</td> <td> 0.518</td> <td>   -0.276</td> <td>    0.543</td>\n",
       "</tr>\n",
       "<tr>\n",
       "  <th>x8</th>    <td>   -0.1839</td> <td>    0.203</td> <td>   -0.907</td> <td> 0.367</td> <td>   -0.587</td> <td>    0.219</td>\n",
       "</tr>\n",
       "<tr>\n",
       "  <th>x9</th>    <td>    0.1677</td> <td>    0.232</td> <td>    0.723</td> <td> 0.472</td> <td>   -0.293</td> <td>    0.629</td>\n",
       "</tr>\n",
       "</table>\n",
       "<table class=\"simpletable\">\n",
       "<tr>\n",
       "  <th>Omnibus:</th>       <td> 2.749</td> <th>  Durbin-Watson:     </th> <td>   1.930</td>\n",
       "</tr>\n",
       "<tr>\n",
       "  <th>Prob(Omnibus):</th> <td> 0.253</td> <th>  Jarque-Bera (JB):  </th> <td>   2.274</td>\n",
       "</tr>\n",
       "<tr>\n",
       "  <th>Skew:</th>          <td>-0.362</td> <th>  Prob(JB):          </th> <td>   0.321</td>\n",
       "</tr>\n",
       "<tr>\n",
       "  <th>Kurtosis:</th>      <td> 3.149</td> <th>  Cond. No.          </th> <td>    218.</td>\n",
       "</tr>\n",
       "</table><br/><br/>Notes:<br/>[1] Standard Errors assume that the covariance matrix of the errors is correctly specified."
      ],
      "text/plain": [
       "<class 'statsmodels.iolib.summary.Summary'>\n",
       "\"\"\"\n",
       "                            OLS Regression Results                            \n",
       "==============================================================================\n",
       "Dep. Variable:                      y   R-squared:                       0.053\n",
       "Model:                            OLS   Adj. R-squared:                 -0.042\n",
       "Method:                 Least Squares   F-statistic:                    0.5564\n",
       "Date:                Mon, 06 Mar 2023   Prob (F-statistic):              0.829\n",
       "Time:                        08:48:45   Log-Likelihood:                -208.89\n",
       "No. Observations:                 100   AIC:                             437.8\n",
       "Df Residuals:                      90   BIC:                             463.8\n",
       "Df Model:                           9                                         \n",
       "Covariance Type:            nonrobust                                         \n",
       "==============================================================================\n",
       "                 coef    std err          t      P>|t|      [0.025      0.975]\n",
       "------------------------------------------------------------------------------\n",
       "const         11.0963      2.988      3.713      0.000       5.160      17.033\n",
       "x1            -0.1313      0.224     -0.587      0.559      -0.575       0.313\n",
       "x2            -0.2034      0.211     -0.962      0.338      -0.623       0.216\n",
       "x3            -0.1586      0.214     -0.740      0.461      -0.584       0.267\n",
       "x4            -0.0556      0.240     -0.232      0.817      -0.532       0.421\n",
       "x5             0.0091      0.224      0.040      0.968      -0.436       0.454\n",
       "x6             0.1411      0.217      0.649      0.518      -0.291       0.573\n",
       "x7             0.1338      0.206      0.649      0.518      -0.276       0.543\n",
       "x8            -0.1839      0.203     -0.907      0.367      -0.587       0.219\n",
       "x9             0.1677      0.232      0.723      0.472      -0.293       0.629\n",
       "==============================================================================\n",
       "Omnibus:                        2.749   Durbin-Watson:                   1.930\n",
       "Prob(Omnibus):                  0.253   Jarque-Bera (JB):                2.274\n",
       "Skew:                          -0.362   Prob(JB):                        0.321\n",
       "Kurtosis:                       3.149   Cond. No.                         218.\n",
       "==============================================================================\n",
       "\n",
       "Notes:\n",
       "[1] Standard Errors assume that the covariance matrix of the errors is correctly specified.\n",
       "\"\"\""
      ]
     },
     "execution_count": 4,
     "metadata": {},
     "output_type": "execute_result"
    }
   ],
   "source": [
    "model1 = sm.OLS(y, X1)\n",
    "fit1 = model1.fit()\n",
    "fit1.summary()"
   ]
  },
  {
   "cell_type": "markdown",
   "id": "9e0bb426",
   "metadata": {},
   "source": [
    "Second model uses subtraction, but gives the same fitted values etc.  Notice we leave the first regressor in place, and replace the rest of the regressors with the differences."
   ]
  },
  {
   "cell_type": "code",
   "execution_count": 5,
   "id": "8b80d949",
   "metadata": {},
   "outputs": [],
   "source": [
    "X2 = X1.copy()\n",
    "differences = np.diff(regressors, axis=1)\n",
    "# Notice leaving column of ones and first regressor in place.\n",
    "X2[:, 2:] = differences"
   ]
  },
  {
   "cell_type": "code",
   "execution_count": 6,
   "id": "b0dc4391",
   "metadata": {},
   "outputs": [
    {
     "data": {
      "text/html": [
       "<table class=\"simpletable\">\n",
       "<caption>OLS Regression Results</caption>\n",
       "<tr>\n",
       "  <th>Dep. Variable:</th>            <td>y</td>        <th>  R-squared:         </th> <td>   0.053</td>\n",
       "</tr>\n",
       "<tr>\n",
       "  <th>Model:</th>                   <td>OLS</td>       <th>  Adj. R-squared:    </th> <td>  -0.042</td>\n",
       "</tr>\n",
       "<tr>\n",
       "  <th>Method:</th>             <td>Least Squares</td>  <th>  F-statistic:       </th> <td>  0.5564</td>\n",
       "</tr>\n",
       "<tr>\n",
       "  <th>Date:</th>             <td>Mon, 06 Mar 2023</td> <th>  Prob (F-statistic):</th>  <td> 0.829</td> \n",
       "</tr>\n",
       "<tr>\n",
       "  <th>Time:</th>                 <td>08:48:45</td>     <th>  Log-Likelihood:    </th> <td> -208.89</td>\n",
       "</tr>\n",
       "<tr>\n",
       "  <th>No. Observations:</th>      <td>   100</td>      <th>  AIC:               </th> <td>   437.8</td>\n",
       "</tr>\n",
       "<tr>\n",
       "  <th>Df Residuals:</th>          <td>    90</td>      <th>  BIC:               </th> <td>   463.8</td>\n",
       "</tr>\n",
       "<tr>\n",
       "  <th>Df Model:</th>              <td>     9</td>      <th>                     </th>     <td> </td>   \n",
       "</tr>\n",
       "<tr>\n",
       "  <th>Covariance Type:</th>      <td>nonrobust</td>    <th>                     </th>     <td> </td>   \n",
       "</tr>\n",
       "</table>\n",
       "<table class=\"simpletable\">\n",
       "<tr>\n",
       "    <td></td>       <th>coef</th>     <th>std err</th>      <th>t</th>      <th>P>|t|</th>  <th>[0.025</th>    <th>0.975]</th>  \n",
       "</tr>\n",
       "<tr>\n",
       "  <th>const</th> <td>   11.0963</td> <td>    2.988</td> <td>    3.713</td> <td> 0.000</td> <td>    5.160</td> <td>   17.033</td>\n",
       "</tr>\n",
       "<tr>\n",
       "  <th>x1</th>    <td>   -0.2811</td> <td>    0.600</td> <td>   -0.469</td> <td> 0.640</td> <td>   -1.472</td> <td>    0.910</td>\n",
       "</tr>\n",
       "<tr>\n",
       "  <th>x2</th>    <td>   -0.1498</td> <td>    0.590</td> <td>   -0.254</td> <td> 0.800</td> <td>   -1.322</td> <td>    1.023</td>\n",
       "</tr>\n",
       "<tr>\n",
       "  <th>x3</th>    <td>    0.0536</td> <td>    0.544</td> <td>    0.099</td> <td> 0.922</td> <td>   -1.027</td> <td>    1.134</td>\n",
       "</tr>\n",
       "<tr>\n",
       "  <th>x4</th>    <td>    0.2123</td> <td>    0.500</td> <td>    0.424</td> <td> 0.672</td> <td>   -0.781</td> <td>    1.206</td>\n",
       "</tr>\n",
       "<tr>\n",
       "  <th>x5</th>    <td>    0.2678</td> <td>    0.442</td> <td>    0.605</td> <td> 0.547</td> <td>   -0.611</td> <td>    1.147</td>\n",
       "</tr>\n",
       "<tr>\n",
       "  <th>x6</th>    <td>    0.2588</td> <td>    0.399</td> <td>    0.648</td> <td> 0.519</td> <td>   -0.534</td> <td>    1.052</td>\n",
       "</tr>\n",
       "<tr>\n",
       "  <th>x7</th>    <td>    0.1176</td> <td>    0.338</td> <td>    0.348</td> <td> 0.728</td> <td>   -0.553</td> <td>    0.788</td>\n",
       "</tr>\n",
       "<tr>\n",
       "  <th>x8</th>    <td>   -0.0162</td> <td>    0.314</td> <td>   -0.052</td> <td> 0.959</td> <td>   -0.639</td> <td>    0.607</td>\n",
       "</tr>\n",
       "<tr>\n",
       "  <th>x9</th>    <td>    0.1677</td> <td>    0.232</td> <td>    0.723</td> <td> 0.472</td> <td>   -0.293</td> <td>    0.629</td>\n",
       "</tr>\n",
       "</table>\n",
       "<table class=\"simpletable\">\n",
       "<tr>\n",
       "  <th>Omnibus:</th>       <td> 2.749</td> <th>  Durbin-Watson:     </th> <td>   1.930</td>\n",
       "</tr>\n",
       "<tr>\n",
       "  <th>Prob(Omnibus):</th> <td> 0.253</td> <th>  Jarque-Bera (JB):  </th> <td>   2.274</td>\n",
       "</tr>\n",
       "<tr>\n",
       "  <th>Skew:</th>          <td>-0.362</td> <th>  Prob(JB):          </th> <td>   0.321</td>\n",
       "</tr>\n",
       "<tr>\n",
       "  <th>Kurtosis:</th>      <td> 3.149</td> <th>  Cond. No.          </th> <td>    80.6</td>\n",
       "</tr>\n",
       "</table><br/><br/>Notes:<br/>[1] Standard Errors assume that the covariance matrix of the errors is correctly specified."
      ],
      "text/plain": [
       "<class 'statsmodels.iolib.summary.Summary'>\n",
       "\"\"\"\n",
       "                            OLS Regression Results                            \n",
       "==============================================================================\n",
       "Dep. Variable:                      y   R-squared:                       0.053\n",
       "Model:                            OLS   Adj. R-squared:                 -0.042\n",
       "Method:                 Least Squares   F-statistic:                    0.5564\n",
       "Date:                Mon, 06 Mar 2023   Prob (F-statistic):              0.829\n",
       "Time:                        08:48:45   Log-Likelihood:                -208.89\n",
       "No. Observations:                 100   AIC:                             437.8\n",
       "Df Residuals:                      90   BIC:                             463.8\n",
       "Df Model:                           9                                         \n",
       "Covariance Type:            nonrobust                                         \n",
       "==============================================================================\n",
       "                 coef    std err          t      P>|t|      [0.025      0.975]\n",
       "------------------------------------------------------------------------------\n",
       "const         11.0963      2.988      3.713      0.000       5.160      17.033\n",
       "x1            -0.2811      0.600     -0.469      0.640      -1.472       0.910\n",
       "x2            -0.1498      0.590     -0.254      0.800      -1.322       1.023\n",
       "x3             0.0536      0.544      0.099      0.922      -1.027       1.134\n",
       "x4             0.2123      0.500      0.424      0.672      -0.781       1.206\n",
       "x5             0.2678      0.442      0.605      0.547      -0.611       1.147\n",
       "x6             0.2588      0.399      0.648      0.519      -0.534       1.052\n",
       "x7             0.1176      0.338      0.348      0.728      -0.553       0.788\n",
       "x8            -0.0162      0.314     -0.052      0.959      -0.639       0.607\n",
       "x9             0.1677      0.232      0.723      0.472      -0.293       0.629\n",
       "==============================================================================\n",
       "Omnibus:                        2.749   Durbin-Watson:                   1.930\n",
       "Prob(Omnibus):                  0.253   Jarque-Bera (JB):                2.274\n",
       "Skew:                          -0.362   Prob(JB):                        0.321\n",
       "Kurtosis:                       3.149   Cond. No.                         80.6\n",
       "==============================================================================\n",
       "\n",
       "Notes:\n",
       "[1] Standard Errors assume that the covariance matrix of the errors is correctly specified.\n",
       "\"\"\""
      ]
     },
     "execution_count": 6,
     "metadata": {},
     "output_type": "execute_result"
    }
   ],
   "source": [
    "model2 = sm.OLS(y, X2)\n",
    "fit2 = model2.fit()\n",
    "fit2.summary()"
   ]
  },
  {
   "cell_type": "markdown",
   "id": "f4b29398",
   "metadata": {},
   "source": [
    "Notice the R-squared and the F-statistic are exactly the same with the two models.  In fact, the predicted values are also the same (within the precision of the calculations):"
   ]
  },
  {
   "cell_type": "code",
   "execution_count": 7,
   "id": "60f491c1",
   "metadata": {},
   "outputs": [
    {
     "data": {
      "text/plain": [
       "True"
      ]
     },
     "execution_count": 7,
     "metadata": {},
     "output_type": "execute_result"
    }
   ],
   "source": [
    "predicted1 = fit1.predict()\n",
    "predicted2 = fit2.predict()\n",
    "np.allclose(predicted1, predicted2)"
   ]
  }
 ],
 "metadata": {
  "jupytext": {
   "notebook_metadata_filter": "all,-language_info",
   "split_at_heading": true
  },
  "kernelspec": {
   "display_name": "Python 3 (ipykernel)",
   "language": "python",
   "name": "python3"
  },
  "language_info": {
   "codemirror_mode": {
    "name": "ipython",
    "version": 3
   },
   "file_extension": ".py",
   "mimetype": "text/x-python",
   "name": "python",
   "nbconvert_exporter": "python",
   "pygments_lexer": "ipython3",
   "version": "3.10.10"
  }
 },
 "nbformat": 4,
 "nbformat_minor": 5
}
