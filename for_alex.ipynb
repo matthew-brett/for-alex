{
 "cells": [
  {
   "cell_type": "code",
   "execution_count": 1,
   "id": "4e44ff3d",
   "metadata": {},
   "outputs": [],
   "source": [
    "import numpy as np\n",
    "import pandas as pd\n",
    "pd.set_option('mode.copy_on_write', True)\n",
    "import statsmodels.api as sm"
   ]
  },
  {
   "cell_type": "code",
   "execution_count": 2,
   "id": "956f1c92",
   "metadata": {},
   "outputs": [],
   "source": [
    "rng = np.random.default_rng()"
   ]
  },
  {
   "cell_type": "code",
   "execution_count": 3,
   "id": "d3278fdb",
   "metadata": {},
   "outputs": [],
   "source": [
    "n = 100\n",
    "p = 10\n",
    "y = rng.normal(10, 2, size=n)  # Thing we're predicting.\n",
    "X1 = np.ones((n, p))  # Regressors.  First column is for the intercept.\n",
    "# Things we're predicting with\n",
    "regressors = rng.normal(5, 1, size=(n, p-1)) \n",
    "# Put these into the design\n",
    "# The regressors preceded by a column of ones to represent the intercept.\n",
    "X1[:, 1:] = regressors"
   ]
  },
  {
   "cell_type": "markdown",
   "id": "af55cc10",
   "metadata": {},
   "source": [
    "First design - no subtraction:"
   ]
  },
  {
   "cell_type": "code",
   "execution_count": 4,
   "id": "6b6ae85d",
   "metadata": {},
   "outputs": [
    {
     "data": {
      "text/html": [
       "<table class=\"simpletable\">\n",
       "<caption>OLS Regression Results</caption>\n",
       "<tr>\n",
       "  <th>Dep. Variable:</th>            <td>y</td>        <th>  R-squared:         </th> <td>   0.199</td>\n",
       "</tr>\n",
       "<tr>\n",
       "  <th>Model:</th>                   <td>OLS</td>       <th>  Adj. R-squared:    </th> <td>   0.119</td>\n",
       "</tr>\n",
       "<tr>\n",
       "  <th>Method:</th>             <td>Least Squares</td>  <th>  F-statistic:       </th> <td>   2.490</td>\n",
       "</tr>\n",
       "<tr>\n",
       "  <th>Date:</th>             <td>Mon, 06 Mar 2023</td> <th>  Prob (F-statistic):</th>  <td>0.0137</td> \n",
       "</tr>\n",
       "<tr>\n",
       "  <th>Time:</th>                 <td>11:10:19</td>     <th>  Log-Likelihood:    </th> <td> -214.11</td>\n",
       "</tr>\n",
       "<tr>\n",
       "  <th>No. Observations:</th>      <td>   100</td>      <th>  AIC:               </th> <td>   448.2</td>\n",
       "</tr>\n",
       "<tr>\n",
       "  <th>Df Residuals:</th>          <td>    90</td>      <th>  BIC:               </th> <td>   474.3</td>\n",
       "</tr>\n",
       "<tr>\n",
       "  <th>Df Model:</th>              <td>     9</td>      <th>                     </th>     <td> </td>   \n",
       "</tr>\n",
       "<tr>\n",
       "  <th>Covariance Type:</th>      <td>nonrobust</td>    <th>                     </th>     <td> </td>   \n",
       "</tr>\n",
       "</table>\n",
       "<table class=\"simpletable\">\n",
       "<tr>\n",
       "    <td></td>       <th>coef</th>     <th>std err</th>      <th>t</th>      <th>P>|t|</th>  <th>[0.025</th>    <th>0.975]</th>  \n",
       "</tr>\n",
       "<tr>\n",
       "  <th>const</th> <td>    3.3396</td> <td>    3.475</td> <td>    0.961</td> <td> 0.339</td> <td>   -3.563</td> <td>   10.242</td>\n",
       "</tr>\n",
       "<tr>\n",
       "  <th>x1</th>    <td>   -0.1602</td> <td>    0.211</td> <td>   -0.760</td> <td> 0.449</td> <td>   -0.579</td> <td>    0.258</td>\n",
       "</tr>\n",
       "<tr>\n",
       "  <th>x2</th>    <td>   -0.4687</td> <td>    0.244</td> <td>   -1.919</td> <td> 0.058</td> <td>   -0.954</td> <td>    0.017</td>\n",
       "</tr>\n",
       "<tr>\n",
       "  <th>x3</th>    <td>    0.5522</td> <td>    0.221</td> <td>    2.500</td> <td> 0.014</td> <td>    0.113</td> <td>    0.991</td>\n",
       "</tr>\n",
       "<tr>\n",
       "  <th>x4</th>    <td>    0.0063</td> <td>    0.228</td> <td>    0.028</td> <td> 0.978</td> <td>   -0.447</td> <td>    0.460</td>\n",
       "</tr>\n",
       "<tr>\n",
       "  <th>x5</th>    <td>    0.3289</td> <td>    0.206</td> <td>    1.600</td> <td> 0.113</td> <td>   -0.079</td> <td>    0.737</td>\n",
       "</tr>\n",
       "<tr>\n",
       "  <th>x6</th>    <td>    0.5466</td> <td>    0.248</td> <td>    2.208</td> <td> 0.030</td> <td>    0.055</td> <td>    1.038</td>\n",
       "</tr>\n",
       "<tr>\n",
       "  <th>x7</th>    <td>    0.0085</td> <td>    0.220</td> <td>    0.039</td> <td> 0.969</td> <td>   -0.429</td> <td>    0.446</td>\n",
       "</tr>\n",
       "<tr>\n",
       "  <th>x8</th>    <td>   -0.0463</td> <td>    0.217</td> <td>   -0.214</td> <td> 0.831</td> <td>   -0.477</td> <td>    0.384</td>\n",
       "</tr>\n",
       "<tr>\n",
       "  <th>x9</th>    <td>    0.5453</td> <td>    0.237</td> <td>    2.305</td> <td> 0.023</td> <td>    0.075</td> <td>    1.015</td>\n",
       "</tr>\n",
       "</table>\n",
       "<table class=\"simpletable\">\n",
       "<tr>\n",
       "  <th>Omnibus:</th>       <td> 1.227</td> <th>  Durbin-Watson:     </th> <td>   2.414</td>\n",
       "</tr>\n",
       "<tr>\n",
       "  <th>Prob(Omnibus):</th> <td> 0.541</td> <th>  Jarque-Bera (JB):  </th> <td>   1.285</td>\n",
       "</tr>\n",
       "<tr>\n",
       "  <th>Skew:</th>          <td>-0.200</td> <th>  Prob(JB):          </th> <td>   0.526</td>\n",
       "</tr>\n",
       "<tr>\n",
       "  <th>Kurtosis:</th>      <td> 2.615</td> <th>  Cond. No.          </th> <td>    245.</td>\n",
       "</tr>\n",
       "</table><br/><br/>Notes:<br/>[1] Standard Errors assume that the covariance matrix of the errors is correctly specified."
      ],
      "text/plain": [
       "<class 'statsmodels.iolib.summary.Summary'>\n",
       "\"\"\"\n",
       "                            OLS Regression Results                            \n",
       "==============================================================================\n",
       "Dep. Variable:                      y   R-squared:                       0.199\n",
       "Model:                            OLS   Adj. R-squared:                  0.119\n",
       "Method:                 Least Squares   F-statistic:                     2.490\n",
       "Date:                Mon, 06 Mar 2023   Prob (F-statistic):             0.0137\n",
       "Time:                        11:10:19   Log-Likelihood:                -214.11\n",
       "No. Observations:                 100   AIC:                             448.2\n",
       "Df Residuals:                      90   BIC:                             474.3\n",
       "Df Model:                           9                                         \n",
       "Covariance Type:            nonrobust                                         \n",
       "==============================================================================\n",
       "                 coef    std err          t      P>|t|      [0.025      0.975]\n",
       "------------------------------------------------------------------------------\n",
       "const          3.3396      3.475      0.961      0.339      -3.563      10.242\n",
       "x1            -0.1602      0.211     -0.760      0.449      -0.579       0.258\n",
       "x2            -0.4687      0.244     -1.919      0.058      -0.954       0.017\n",
       "x3             0.5522      0.221      2.500      0.014       0.113       0.991\n",
       "x4             0.0063      0.228      0.028      0.978      -0.447       0.460\n",
       "x5             0.3289      0.206      1.600      0.113      -0.079       0.737\n",
       "x6             0.5466      0.248      2.208      0.030       0.055       1.038\n",
       "x7             0.0085      0.220      0.039      0.969      -0.429       0.446\n",
       "x8            -0.0463      0.217     -0.214      0.831      -0.477       0.384\n",
       "x9             0.5453      0.237      2.305      0.023       0.075       1.015\n",
       "==============================================================================\n",
       "Omnibus:                        1.227   Durbin-Watson:                   2.414\n",
       "Prob(Omnibus):                  0.541   Jarque-Bera (JB):                1.285\n",
       "Skew:                          -0.200   Prob(JB):                        0.526\n",
       "Kurtosis:                       2.615   Cond. No.                         245.\n",
       "==============================================================================\n",
       "\n",
       "Notes:\n",
       "[1] Standard Errors assume that the covariance matrix of the errors is correctly specified.\n",
       "\"\"\""
      ]
     },
     "execution_count": 4,
     "metadata": {},
     "output_type": "execute_result"
    }
   ],
   "source": [
    "model1 = sm.OLS(y, X1)\n",
    "fit1 = model1.fit()\n",
    "fit1.summary()"
   ]
  },
  {
   "cell_type": "markdown",
   "id": "9e0bb426",
   "metadata": {},
   "source": [
    "Second model uses subtraction, but gives the same fitted values etc.  Notice we leave the first regressor in place, and replace the rest of the regressors with the differences."
   ]
  },
  {
   "cell_type": "code",
   "execution_count": 5,
   "id": "8b80d949",
   "metadata": {},
   "outputs": [],
   "source": [
    "X2 = X1.copy()\n",
    "differences = np.diff(regressors, axis=1)\n",
    "# Notice leaving column of ones and first regressor in place.\n",
    "X2[:, 2:] = differences"
   ]
  },
  {
   "cell_type": "code",
   "execution_count": 6,
   "id": "b0dc4391",
   "metadata": {},
   "outputs": [
    {
     "data": {
      "text/html": [
       "<table class=\"simpletable\">\n",
       "<caption>OLS Regression Results</caption>\n",
       "<tr>\n",
       "  <th>Dep. Variable:</th>            <td>y</td>        <th>  R-squared:         </th> <td>   0.199</td>\n",
       "</tr>\n",
       "<tr>\n",
       "  <th>Model:</th>                   <td>OLS</td>       <th>  Adj. R-squared:    </th> <td>   0.119</td>\n",
       "</tr>\n",
       "<tr>\n",
       "  <th>Method:</th>             <td>Least Squares</td>  <th>  F-statistic:       </th> <td>   2.490</td>\n",
       "</tr>\n",
       "<tr>\n",
       "  <th>Date:</th>             <td>Mon, 06 Mar 2023</td> <th>  Prob (F-statistic):</th>  <td>0.0137</td> \n",
       "</tr>\n",
       "<tr>\n",
       "  <th>Time:</th>                 <td>11:10:19</td>     <th>  Log-Likelihood:    </th> <td> -214.11</td>\n",
       "</tr>\n",
       "<tr>\n",
       "  <th>No. Observations:</th>      <td>   100</td>      <th>  AIC:               </th> <td>   448.2</td>\n",
       "</tr>\n",
       "<tr>\n",
       "  <th>Df Residuals:</th>          <td>    90</td>      <th>  BIC:               </th> <td>   474.3</td>\n",
       "</tr>\n",
       "<tr>\n",
       "  <th>Df Model:</th>              <td>     9</td>      <th>                     </th>     <td> </td>   \n",
       "</tr>\n",
       "<tr>\n",
       "  <th>Covariance Type:</th>      <td>nonrobust</td>    <th>                     </th>     <td> </td>   \n",
       "</tr>\n",
       "</table>\n",
       "<table class=\"simpletable\">\n",
       "<tr>\n",
       "    <td></td>       <th>coef</th>     <th>std err</th>      <th>t</th>      <th>P>|t|</th>  <th>[0.025</th>    <th>0.975]</th>  \n",
       "</tr>\n",
       "<tr>\n",
       "  <th>const</th> <td>    3.3396</td> <td>    3.475</td> <td>    0.961</td> <td> 0.339</td> <td>   -3.563</td> <td>   10.242</td>\n",
       "</tr>\n",
       "<tr>\n",
       "  <th>x1</th>    <td>    1.3126</td> <td>    0.683</td> <td>    1.922</td> <td> 0.058</td> <td>   -0.044</td> <td>    2.669</td>\n",
       "</tr>\n",
       "<tr>\n",
       "  <th>x2</th>    <td>    1.4728</td> <td>    0.695</td> <td>    2.118</td> <td> 0.037</td> <td>    0.091</td> <td>    2.854</td>\n",
       "</tr>\n",
       "<tr>\n",
       "  <th>x3</th>    <td>    1.9414</td> <td>    0.619</td> <td>    3.137</td> <td> 0.002</td> <td>    0.712</td> <td>    3.171</td>\n",
       "</tr>\n",
       "<tr>\n",
       "  <th>x4</th>    <td>    1.3893</td> <td>    0.589</td> <td>    2.357</td> <td> 0.021</td> <td>    0.218</td> <td>    2.560</td>\n",
       "</tr>\n",
       "<tr>\n",
       "  <th>x5</th>    <td>    1.3830</td> <td>    0.530</td> <td>    2.611</td> <td> 0.011</td> <td>    0.331</td> <td>    2.435</td>\n",
       "</tr>\n",
       "<tr>\n",
       "  <th>x6</th>    <td>    1.0541</td> <td>    0.462</td> <td>    2.279</td> <td> 0.025</td> <td>    0.135</td> <td>    1.973</td>\n",
       "</tr>\n",
       "<tr>\n",
       "  <th>x7</th>    <td>    0.5075</td> <td>    0.378</td> <td>    1.341</td> <td> 0.183</td> <td>   -0.244</td> <td>    1.259</td>\n",
       "</tr>\n",
       "<tr>\n",
       "  <th>x8</th>    <td>    0.4990</td> <td>    0.321</td> <td>    1.556</td> <td> 0.123</td> <td>   -0.138</td> <td>    1.136</td>\n",
       "</tr>\n",
       "<tr>\n",
       "  <th>x9</th>    <td>    0.5453</td> <td>    0.237</td> <td>    2.305</td> <td> 0.023</td> <td>    0.075</td> <td>    1.015</td>\n",
       "</tr>\n",
       "</table>\n",
       "<table class=\"simpletable\">\n",
       "<tr>\n",
       "  <th>Omnibus:</th>       <td> 1.227</td> <th>  Durbin-Watson:     </th> <td>   2.414</td>\n",
       "</tr>\n",
       "<tr>\n",
       "  <th>Prob(Omnibus):</th> <td> 0.541</td> <th>  Jarque-Bera (JB):  </th> <td>   1.285</td>\n",
       "</tr>\n",
       "<tr>\n",
       "  <th>Skew:</th>          <td>-0.200</td> <th>  Prob(JB):          </th> <td>   0.526</td>\n",
       "</tr>\n",
       "<tr>\n",
       "  <th>Kurtosis:</th>      <td> 2.615</td> <th>  Cond. No.          </th> <td>    90.1</td>\n",
       "</tr>\n",
       "</table><br/><br/>Notes:<br/>[1] Standard Errors assume that the covariance matrix of the errors is correctly specified."
      ],
      "text/plain": [
       "<class 'statsmodels.iolib.summary.Summary'>\n",
       "\"\"\"\n",
       "                            OLS Regression Results                            \n",
       "==============================================================================\n",
       "Dep. Variable:                      y   R-squared:                       0.199\n",
       "Model:                            OLS   Adj. R-squared:                  0.119\n",
       "Method:                 Least Squares   F-statistic:                     2.490\n",
       "Date:                Mon, 06 Mar 2023   Prob (F-statistic):             0.0137\n",
       "Time:                        11:10:19   Log-Likelihood:                -214.11\n",
       "No. Observations:                 100   AIC:                             448.2\n",
       "Df Residuals:                      90   BIC:                             474.3\n",
       "Df Model:                           9                                         \n",
       "Covariance Type:            nonrobust                                         \n",
       "==============================================================================\n",
       "                 coef    std err          t      P>|t|      [0.025      0.975]\n",
       "------------------------------------------------------------------------------\n",
       "const          3.3396      3.475      0.961      0.339      -3.563      10.242\n",
       "x1             1.3126      0.683      1.922      0.058      -0.044       2.669\n",
       "x2             1.4728      0.695      2.118      0.037       0.091       2.854\n",
       "x3             1.9414      0.619      3.137      0.002       0.712       3.171\n",
       "x4             1.3893      0.589      2.357      0.021       0.218       2.560\n",
       "x5             1.3830      0.530      2.611      0.011       0.331       2.435\n",
       "x6             1.0541      0.462      2.279      0.025       0.135       1.973\n",
       "x7             0.5075      0.378      1.341      0.183      -0.244       1.259\n",
       "x8             0.4990      0.321      1.556      0.123      -0.138       1.136\n",
       "x9             0.5453      0.237      2.305      0.023       0.075       1.015\n",
       "==============================================================================\n",
       "Omnibus:                        1.227   Durbin-Watson:                   2.414\n",
       "Prob(Omnibus):                  0.541   Jarque-Bera (JB):                1.285\n",
       "Skew:                          -0.200   Prob(JB):                        0.526\n",
       "Kurtosis:                       2.615   Cond. No.                         90.1\n",
       "==============================================================================\n",
       "\n",
       "Notes:\n",
       "[1] Standard Errors assume that the covariance matrix of the errors is correctly specified.\n",
       "\"\"\""
      ]
     },
     "execution_count": 6,
     "metadata": {},
     "output_type": "execute_result"
    }
   ],
   "source": [
    "model2 = sm.OLS(y, X2)\n",
    "fit2 = model2.fit()\n",
    "fit2.summary()"
   ]
  },
  {
   "cell_type": "markdown",
   "id": "f4b29398",
   "metadata": {},
   "source": [
    "Notice the R-squared and the F-statistic are exactly the same with the two models.  In fact, the predicted values are also the same (within the precision of the calculations):"
   ]
  },
  {
   "cell_type": "code",
   "execution_count": 7,
   "id": "60f491c1",
   "metadata": {},
   "outputs": [
    {
     "data": {
      "text/plain": [
       "True"
      ]
     },
     "execution_count": 7,
     "metadata": {},
     "output_type": "execute_result"
    }
   ],
   "source": [
    "predicted1 = fit1.predict()\n",
    "predicted2 = fit2.predict()\n",
    "np.allclose(predicted1, predicted2)"
   ]
  },
  {
   "cell_type": "code",
   "execution_count": 8,
   "id": "97bf2c9b",
   "metadata": {},
   "outputs": [
    {
     "data": {
      "text/plain": [
       "array([ 3.3395934 , -0.16022636, -0.46865428,  0.55218687,  0.0062739 ,\n",
       "        0.32889603,  0.54658512,  0.00853995, -0.04629522,  0.54525186])"
      ]
     },
     "execution_count": 8,
     "metadata": {},
     "output_type": "execute_result"
    }
   ],
   "source": [
    "# Just for completeness - the maths behind the stuff above.\n",
    "# Find the least-squares parameters with linear algebra \"pinv\".\n",
    "params = np.linalg.pinv(X1) @ y\n",
    "params"
   ]
  },
  {
   "cell_type": "code",
   "execution_count": 9,
   "id": "5646314b",
   "metadata": {},
   "outputs": [
    {
     "data": {
      "text/plain": [
       "True"
      ]
     },
     "execution_count": 9,
     "metadata": {},
     "output_type": "execute_result"
    }
   ],
   "source": [
    "# This the same calculation that statsmodels did:\n",
    "np.allclose(params, fit1.params)"
   ]
  },
  {
   "cell_type": "code",
   "execution_count": 10,
   "id": "a3e3e4dc",
   "metadata": {},
   "outputs": [
    {
     "data": {
      "text/plain": [
       "True"
      ]
     },
     "execution_count": 10,
     "metadata": {},
     "output_type": "execute_result"
    }
   ],
   "source": [
    "# Predicted is just the parameters times the columns, added up.\n",
    "predicted = np.sum(X1 * params, axis=1)\n",
    "np.allclose(predicted, fit1.predict())"
   ]
  },
  {
   "cell_type": "code",
   "execution_count": 11,
   "id": "fd2dd5a9",
   "metadata": {},
   "outputs": [
    {
     "data": {
      "text/plain": [
       "True"
      ]
     },
     "execution_count": 11,
     "metadata": {},
     "output_type": "execute_result"
    }
   ],
   "source": [
    "# Residuals are just the data minus the parameters.\n",
    "residuals = y - predicted\n",
    "sum_sq_resid = np.sum(residuals ** 2)\n",
    "np.allclose(sum_sq_resid, fit1.ssr)"
   ]
  }
 ],
 "metadata": {
  "jupytext": {
   "notebook_metadata_filter": "all,-language_info",
   "split_at_heading": true
  },
  "kernelspec": {
   "display_name": "Python 3 (ipykernel)",
   "language": "python",
   "name": "python3"
  },
  "language_info": {
   "codemirror_mode": {
    "name": "ipython",
    "version": 3
   },
   "file_extension": ".py",
   "mimetype": "text/x-python",
   "name": "python",
   "nbconvert_exporter": "python",
   "pygments_lexer": "ipython3",
   "version": "3.10.10"
  }
 },
 "nbformat": 4,
 "nbformat_minor": 5
}
